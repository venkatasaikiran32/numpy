{
  "nbformat": 4,
  "nbformat_minor": 0,
  "metadata": {
    "colab": {
      "provenance": []
    },
    "kernelspec": {
      "name": "python3",
      "display_name": "Python 3"
    },
    "language_info": {
      "name": "python"
    }
  },
  "cells": [
    {
      "cell_type": "code",
      "execution_count": null,
      "metadata": {
        "id": "tpvbybgw2Cob"
      },
      "outputs": [],
      "source": []
    },
    {
      "cell_type": "markdown",
      "source": [
        "1.what is a python libraray? why do we use python libraries?"
      ],
      "metadata": {
        "id": "fMYdXOyG2Hkp"
      }
    },
    {
      "cell_type": "markdown",
      "source": [
        "A Python library is a collection of pre-written code, functions, classes, and modules that provides functionalities to help programmers perform common tasks without having to write code from scratch. Libraries in Python encapsulate reusable code into packages that you can import and use in your own programs.\n",
        "\n",
        "\n",
        "\n",
        "\n",
        "\n",
        " Uses of  Python Libraries?\n",
        "Code Reusability:\n",
        "\n",
        "Save Time: Libraries provide pre-built functionality that saves you from having to write and debug code from scratch.\n",
        "Avoid Reinventing the Wheel: You can leverage existing solutions for common problems and focus on implementing the unique aspects of your project.\n",
        "Enhanced Productivity:\n",
        "\n",
        "Faster Development: With libraries handling common tasks, you can develop software faster.\n",
        "Focus on Core Logic: Libraries allow you to concentrate on the specific logic of your application, rather than on low-level details.\n",
        "Improved Code Quality:\n",
        "\n",
        "Tested and Reliable: Libraries are often well-tested and optimized, providing robust and reliable solutions.\n",
        "Community Support: Many libraries are maintained by the community or organizations, ensuring they are up-to-date and reliable.\n",
        "Access to Specialized Functionality:\n",
        "\n",
        "Complex Operations: Libraries offer advanced features for complex tasks such as data analysis (pandas), machine learning (scikit-learn), web development (Flask, Django), and more.\n",
        "External Integrations: Libraries can provide functionality for integrating with external services and APIs.\n",
        "Consistency and Best Practices:\n",
        "\n",
        "Standard Practices: Libraries often follow best practices and coding standards, helping ensure consistency in how tasks are handled.\n",
        "Documentation: Many libraries come with comprehensive documentation that helps you understand how to use the functionality they provide."
      ],
      "metadata": {
        "id": "6nHq5XgF2Qb1"
      }
    },
    {
      "cell_type": "code",
      "source": [
        "#example of numpy librarary\n",
        "# to install libraray we use\n",
        "#pip install   <libraray name>\n",
        "\n",
        "#to import libraray\n",
        "#we use import library name\n",
        "\n",
        "import numpy as np"
      ],
      "metadata": {
        "id": "m0x8-w5p2OjK"
      },
      "execution_count": null,
      "outputs": []
    },
    {
      "cell_type": "markdown",
      "source": [
        "2. What is the difference between Numpy array and List"
      ],
      "metadata": {
        "id": "EobfT4F03NIt"
      }
    },
    {
      "cell_type": "markdown",
      "source": [
        "Both NumPy arrays and Python lists are used to store collections of items, but they differ significantly in their functionality, performance, and use cases."
      ],
      "metadata": {
        "id": "cskhZd193iyS"
      }
    },
    {
      "cell_type": "markdown",
      "source": [
        "NumPy Array vs. Python List\n",
        "1. Performance\n",
        "NumPy Array:\n",
        "\n",
        "Efficiency: NumPy arrays are more efficient for numerical operations because they are implemented in C and use contiguous memory. This makes them faster for operations on large datasets.\n",
        "Vectorized Operations: NumPy supports vectorized operations, meaning that operations are performed on the whole array at once rather than using Python loops, which leads to faster execution.\n",
        "Python List:\n",
        "\n",
        "Performance: Python lists are less efficient for numerical operations. They are general-purpose containers that store elements as Python objects, leading to slower execution for large-scale numerical computations.\n",
        "Element-wise Operations: Operations on lists are typically done using loops and are less optimized compared to NumPy’s vectorized operations.\n",
        "2. Homogeneity\n",
        "NumPy Array:\n",
        "\n",
        "Homogeneous: NumPy arrays require all elements to be of the same data type (e.g., all integers or all floats). This allows for efficient storage and computation.\n",
        "Python List:\n",
        "\n",
        "Heterogeneous: Python lists can contain elements of different types (e.g., integers, floats, strings), which provides flexibility but can lead to inefficiencies in numerical computations.\n",
        "3. Functionality\n",
        "NumPy Array:\n",
        "\n",
        "Mathematical Functions: NumPy provides a wide range of mathematical and statistical functions (e.g., mean, median, standard deviation) that operate efficiently on arrays.\n",
        "Multidimensional Arrays: NumPy supports multidimensional arrays (e.g., matrices) and provides functions for operations on these arrays.\n",
        "Broadcasting: NumPy supports broadcasting, allowing operations between arrays of different shapes.\n",
        "Python List:\n",
        "\n",
        "Basic Operations: Python lists offer basic operations like appending, slicing, and concatenation but lack built-in support for advanced mathematical operations.\n",
        "No Built-in Support for Multidimensional Arrays: Python lists can be nested to represent multidimensional arrays, but this is less efficient and requires manual handling.\n",
        "4. Memory Consumption\n",
        "NumPy Array:\n",
        "\n",
        "Memory Efficiency: NumPy arrays are more memory-efficient due to their fixed-size data type and contiguous memory allocation.\n",
        "Python List:\n",
        "\n",
        "Memory Overhead: Python lists have higher memory overhead because they store references to objects and each element is a separate Python object.\n",
        "5. Ease of Use\n",
        "NumPy Array:\n",
        "\n",
        "Learning Curve: NumPy arrays might have a steeper learning curve due to their extensive functionality and the need to understand array operations and broadcasting.\n",
        "Library Dependency: Requires importing the NumPy library (import numpy as np).\n",
        "Python List:\n",
        "\n",
        "Built-in: Python lists are built into the language and require no additional libraries. They are easy to use for basic tasks.\n",
        "General-purpose: They are more flexible and suitable for general-purpose tasks where numerical computations are not a primary concern."
      ],
      "metadata": {
        "id": "Nabl2xTe3kjc"
      }
    },
    {
      "cell_type": "code",
      "source": [
        "li=[1,2,3,4,5]\n",
        "\n",
        "a=np.array(li)\n",
        "print(type(li))\n",
        "print(type(a))"
      ],
      "metadata": {
        "colab": {
          "base_uri": "https://localhost:8080/"
        },
        "id": "eSmTHT1C3KYY",
        "outputId": "272cbc50-8f9e-4405-f514-2d8de041f456"
      },
      "execution_count": null,
      "outputs": [
        {
          "output_type": "stream",
          "name": "stdout",
          "text": [
            "<class 'list'>\n",
            "<class 'numpy.ndarray'>\n"
          ]
        }
      ]
    },
    {
      "cell_type": "markdown",
      "source": [
        "3. Find the shape, size and dimension of the following array?\n",
        "\n",
        "[[1, 2, 3, 4]\n",
        "\n",
        "[5, 6, 7, 8],\n",
        "\n",
        "[9, 10, 11, 12]]"
      ],
      "metadata": {
        "id": "3Skq-RnN35Wh"
      }
    },
    {
      "cell_type": "code",
      "source": [
        "li=[[1,2,3,4],[5,6,7,8],[9,10,11,12]]\n",
        "\n",
        "a=np.array(li)\n",
        "\n",
        "print('shape:',a.shape)\n",
        "print('size:',a.size)\n",
        "print('dimension:',a.ndim)"
      ],
      "metadata": {
        "colab": {
          "base_uri": "https://localhost:8080/"
        },
        "id": "udJiJ9W333Nu",
        "outputId": "b4b95e92-b142-438a-8dd0-0ae313ad9c06"
      },
      "execution_count": null,
      "outputs": [
        {
          "output_type": "stream",
          "name": "stdout",
          "text": [
            "shape: (3, 4)\n",
            "size: 12\n",
            "dimension: 2\n"
          ]
        }
      ]
    },
    {
      "cell_type": "markdown",
      "source": [
        "4. Write python code to access the first row of the following array?\n",
        "\n",
        "[[1, 2, 3, 4]\n",
        "\n",
        "[5, 6, 7, 8],\n",
        "\n",
        "[9, 10, 11, 12]]"
      ],
      "metadata": {
        "id": "QU3L7Dbp4ZW9"
      }
    },
    {
      "cell_type": "code",
      "source": [
        "li=[[1,2,3,4],[5,6,7,8],[9,10,11,12]]\n",
        "a=np.array(li)\n",
        "\n",
        "#to access first row\n",
        "\n",
        "a[0]"
      ],
      "metadata": {
        "colab": {
          "base_uri": "https://localhost:8080/"
        },
        "id": "Cy8ECB4-4gnz",
        "outputId": "b0cc3c81-42e7-468c-cfbe-598b2ca51894"
      },
      "execution_count": null,
      "outputs": [
        {
          "output_type": "execute_result",
          "data": {
            "text/plain": [
              "array([1, 2, 3, 4])"
            ]
          },
          "metadata": {},
          "execution_count": 4
        }
      ]
    },
    {
      "cell_type": "markdown",
      "source": [
        "5. How do you access the element at the third row and fourth column from the given numpy array?\n",
        "\n",
        "[[1, 2, 3, 4]\n",
        "\n",
        "[5, 6, 7, 8],\n",
        "\n",
        "[9, 10, 11, 12]]"
      ],
      "metadata": {
        "id": "7iU8UFj6413a"
      }
    },
    {
      "cell_type": "code",
      "source": [
        "li=[[1,2,3,4],[5,6,7,8],[9,10,11,12]]\n",
        "\n",
        "a=np.array(li)\n",
        "\n",
        "#to access the element at the third row and fourth column from the given numpy array\n",
        "\n",
        "a[2,3]\n",
        "\n"
      ],
      "metadata": {
        "colab": {
          "base_uri": "https://localhost:8080/"
        },
        "id": "p54dlxVf5A9B",
        "outputId": "05c7caf5-11a2-41d2-ee33-1f42b47561fd"
      },
      "execution_count": null,
      "outputs": [
        {
          "output_type": "execute_result",
          "data": {
            "text/plain": [
              "12"
            ]
          },
          "metadata": {},
          "execution_count": 5
        }
      ]
    },
    {
      "cell_type": "markdown",
      "source": [
        "6. Write code to extract all odd-indexed elements from the given numpy array?\n",
        "\n",
        "[[1, 2, 3, 4]\n",
        "\n",
        "[5, 6, 7, 8],\n",
        "\n",
        "[9, 10, 11, 12]]"
      ],
      "metadata": {
        "id": "KO07Mb-i5hYh"
      }
    },
    {
      "cell_type": "code",
      "source": [
        "li=[[1,2,3,4],[5,6,7,8],[9,10,11,12]]\n",
        "a=np.array(li)\n",
        "\n",
        "#to extract all odd-indexed elements from the given numpy array\n",
        "\n",
        "\n",
        "\n",
        "odd_indexed_elements = a[::2]\n",
        "\n",
        "print(\"Original Array:\", a)\n",
        "print(\"Odd-Indexed Elements:\", odd_indexed_elements)"
      ],
      "metadata": {
        "colab": {
          "base_uri": "https://localhost:8080/"
        },
        "id": "JSb9xEGg4V3c",
        "outputId": "c412c042-1df5-4312-a2af-2560acb90d62"
      },
      "execution_count": null,
      "outputs": [
        {
          "output_type": "stream",
          "name": "stdout",
          "text": [
            "Original Array: [[ 1  2  3  4]\n",
            " [ 5  6  7  8]\n",
            " [ 9 10 11 12]]\n",
            "Odd-Indexed Elements: [[ 1  2  3  4]\n",
            " [ 9 10 11 12]]\n"
          ]
        }
      ]
    },
    {
      "cell_type": "markdown",
      "source": [
        "7. How can you generate a random 3x3 matrix with values between 0 and 1?"
      ],
      "metadata": {
        "id": "345cet-222L4"
      }
    },
    {
      "cell_type": "code",
      "source": [
        "import numpy as np\n",
        "\n",
        "# Generate a 3x3 matrix with random values between 0 and 1\n",
        "random_matrix = np.random.rand(3, 3)\n",
        "\n",
        "print(\"Random 3x3 Matrix:\")\n",
        "print(random_matrix)\n"
      ],
      "metadata": {
        "colab": {
          "base_uri": "https://localhost:8080/"
        },
        "id": "QSh65yVi6IcW",
        "outputId": "310acec3-b76f-471a-dcf9-364044ab63d8"
      },
      "execution_count": null,
      "outputs": [
        {
          "output_type": "stream",
          "name": "stdout",
          "text": [
            "Random 3x3 Matrix:\n",
            "[[0.60933626 0.26888368 0.27617515]\n",
            " [0.33630579 0.09546477 0.18725999]\n",
            " [0.09829349 0.98281605 0.32693873]]\n"
          ]
        }
      ]
    },
    {
      "cell_type": "markdown",
      "source": [
        "8. Describe the difference between np.random.rand and np.random.randin"
      ],
      "metadata": {
        "id": "OgoNoUZ_3GhW"
      }
    },
    {
      "cell_type": "markdown",
      "source": [
        "The functions np.random.rand and np.random.randint in NumPy are both used to generate random numbers, but they serve different purposes and produce different types of outputs."
      ],
      "metadata": {
        "id": "FNtI94693aMq"
      }
    },
    {
      "cell_type": "markdown",
      "source": [
        "1. np.random.rand\n",
        "Purpose: Generates an array of random numbers from a uniform distribution over the interval\n",
        "[\n",
        "0\n",
        ",\n",
        "1\n",
        ").\n",
        "Output: The output is an array of floating-point numbers between 0 (inclusive) and 1 (exclusive).\n",
        "Usage:\n",
        "You can specify the dimensions of the array as arguments.\n",
        "The numbers are uniformly distributed, meaning each number in the interval\n",
        "[\n",
        "0\n",
        ",\n",
        "1\n",
        ") has an equal chance of being generated.\n",
        "\n",
        "\n",
        "2. np.random.randint\n",
        "Purpose: Generates random integers from a specified range.\n",
        "\n",
        "Output: The output is an array of integers within a specified range.\n",
        "Usage:\n",
        "You need to specify the lower bound (inclusive) and upper bound (exclusive) of the range, and optionally, the shape of the output array.\n",
        "You can generate either a single integer or an array of integers.\n",
        "\n",
        "\n",
        "\n",
        "\n",
        "np.random.rand generates floating-point numbers in the interval\n",
        "[\n",
        "0\n",
        ",\n",
        "1\n",
        ").\n",
        "np.random.randint generates integers within a specified range.\n",
        "Range of Values:\n",
        "\n",
        "np.random.rand always generates numbers between 0 and 1.\n",
        "\n",
        "np.random.randint generates integers between a specified lower and upper bound.\n",
        "Typical Use Cases:\n",
        "\n",
        "np.random.rand is typically used when you need random decimal numbers, often for tasks involving probabilities, simulations, or initializing weights in neural networks.\n",
        "np.random.randint is useful when you need discrete values, such as indices for sampling, generating random labels, or creating random subsets.\n",
        "\n",
        "\n",
        "\n",
        "\n",
        "\n",
        "\n"
      ],
      "metadata": {
        "id": "qhOcbj6c3dEv"
      }
    },
    {
      "cell_type": "code",
      "source": [
        "#code:\n",
        "import numpy as np\n",
        "\n",
        "# Generating  a 2x3 array of random integers between 5 (inclusive) and 10 (exclusive)\n",
        "random_integers = np.random.randint(5, 10, size=(2, 3))\n",
        "print(random_integers)\n"
      ],
      "metadata": {
        "colab": {
          "base_uri": "https://localhost:8080/"
        },
        "id": "ULIarTJm3E58",
        "outputId": "8b0bd77b-ed64-4380-ab75-2d0add296078"
      },
      "execution_count": null,
      "outputs": [
        {
          "output_type": "stream",
          "name": "stdout",
          "text": [
            "[[8 8 5]\n",
            " [8 9 8]]\n"
          ]
        }
      ]
    },
    {
      "cell_type": "code",
      "source": [
        "import numpy as np\n",
        "\n",
        "# Generate a 2x3 array of random integers between 5 (inclusive) and 10 (exclusive)\n",
        "random = np.random.rand(2, 3)\n",
        "print(random)\n"
      ],
      "metadata": {
        "colab": {
          "base_uri": "https://localhost:8080/"
        },
        "id": "i14ZW_QZ4Clu",
        "outputId": "9ba2d56b-7ba0-4279-d844-dd4dd0044e76"
      },
      "execution_count": null,
      "outputs": [
        {
          "output_type": "stream",
          "name": "stdout",
          "text": [
            "[[0.82842437 0.20516443 0.49708591]\n",
            " [0.07847873 0.08683237 0.51016603]]\n"
          ]
        }
      ]
    },
    {
      "cell_type": "markdown",
      "source": [
        "9. Write code to increase the dimension of the following array?\n",
        "\n",
        "[[1, 2, 3, 4]\n",
        "\n",
        "[5, 6, 7, 8],\n",
        "\n",
        "[9, 10, 11, 12]"
      ],
      "metadata": {
        "id": "I0imqfIO4San"
      }
    },
    {
      "cell_type": "markdown",
      "source": [
        "To increase the dimension of a given NumPy array, you can use the np.expand_dims function or by reshaping the array."
      ],
      "metadata": {
        "id": "vXYf7i_04iKV"
      }
    },
    {
      "cell_type": "code",
      "source": [
        "import numpy as np\n",
        "\n",
        "# Original 2D array\n",
        "arr = np.array([[1, 2, 3, 4],\n",
        "                [5, 6, 7, 8],\n",
        "                [9, 10, 11, 12]])\n",
        "\n",
        "\n",
        "# Add a new axis (increase dimension)\n",
        "# Adding a new axis along the first dimension\n",
        "new_arr = np.expand_dims(arr, axis=0)\n",
        "\n",
        "print(\"Array with increased dimension:\")\n",
        "print(new_arr)\n",
        "print(\"Shape:\", new_arr.shape)\n"
      ],
      "metadata": {
        "colab": {
          "base_uri": "https://localhost:8080/"
        },
        "id": "IZPPA6Vb5ANz",
        "outputId": "21fd5104-ff61-4484-b54b-114973b82856"
      },
      "execution_count": null,
      "outputs": [
        {
          "output_type": "stream",
          "name": "stdout",
          "text": [
            "Array with increased dimension:\n",
            "[[[ 1  2  3  4]\n",
            "  [ 5  6  7  8]\n",
            "  [ 9 10 11 12]]]\n",
            "Shape: (1, 3, 4)\n"
          ]
        }
      ]
    },
    {
      "cell_type": "markdown",
      "source": [
        "using reshape()"
      ],
      "metadata": {
        "id": "-nUnZ8Zf4odt"
      }
    },
    {
      "cell_type": "code",
      "source": [
        "# Reshape to increase dimension\n",
        "# Adding a new dimension to make it a 3D array\n",
        "new_arr_reshape = arr.reshape(1, 3, 4)\n",
        "\n",
        "print(\"Array reshaped to increase dimension:\")\n",
        "print(new_arr_reshape)\n",
        "print(\"Shape:\", new_arr_reshape.shape)\n"
      ],
      "metadata": {
        "colab": {
          "base_uri": "https://localhost:8080/"
        },
        "id": "yiZb41044NLb",
        "outputId": "c310875c-da42-48c7-d34b-05e9af810554"
      },
      "execution_count": null,
      "outputs": [
        {
          "output_type": "stream",
          "name": "stdout",
          "text": [
            "Array reshaped to increase dimension:\n",
            "[[[ 1  2  3  4]\n",
            "  [ 5  6  7  8]\n",
            "  [ 9 10 11 12]]]\n",
            "Shape: (1, 3, 4)\n"
          ]
        }
      ]
    },
    {
      "cell_type": "markdown",
      "source": [
        "10. How to transpose the following array in NumPy?\n",
        "\n",
        "[[1, 2, 3, 4]\n",
        "\n",
        "[5, 6, 7, 8],\n",
        "\n",
        "[9, 10, 11, 12]]"
      ],
      "metadata": {
        "id": "Hr44ilN05M57"
      }
    },
    {
      "cell_type": "markdown",
      "source": [
        "To transpose a 2D array in NumPy, you can use the numpy.transpose() function or the .T attribute. Transposing an array means flipping it over its diagonal, so the rows become columns and the columns become rows."
      ],
      "metadata": {
        "id": "ATehPEBQ5f0-"
      }
    },
    {
      "cell_type": "code",
      "source": [
        "import numpy as np\n",
        "\n",
        "# Original 2D array\n",
        "arr = np.array([[1, 2, 3, 4],\n",
        "                [5, 6, 7, 8],\n",
        "                [9, 10, 11, 12]])\n"
      ],
      "metadata": {
        "id": "CQtme9O75LkI"
      },
      "execution_count": null,
      "outputs": []
    },
    {
      "cell_type": "code",
      "source": [
        "# Transpose the array using .T\n",
        "transposed_arr = arr.T\n",
        "\n",
        "print(\"Transposed Array using .T:\")\n",
        "print(transposed_arr)\n"
      ],
      "metadata": {
        "colab": {
          "base_uri": "https://localhost:8080/"
        },
        "id": "IH0Qd_aN5jh4",
        "outputId": "da0add56-bc47-4a29-d9a7-1555b6d07c81"
      },
      "execution_count": null,
      "outputs": [
        {
          "output_type": "stream",
          "name": "stdout",
          "text": [
            "Transposed Array using .T:\n",
            "[[ 1  5  9]\n",
            " [ 2  6 10]\n",
            " [ 3  7 11]\n",
            " [ 4  8 12]]\n"
          ]
        }
      ]
    },
    {
      "cell_type": "markdown",
      "source": [],
      "metadata": {
        "id": "xoqFn5NQ674T"
      }
    },
    {
      "cell_type": "markdown",
      "source": [
        "using program"
      ],
      "metadata": {
        "id": "0Q9LUa8n5oa9"
      }
    },
    {
      "cell_type": "code",
      "source": [],
      "metadata": {
        "id": "FyJn6wIB5muz"
      },
      "execution_count": null,
      "outputs": []
    },
    {
      "cell_type": "markdown",
      "source": [
        "11. Consider the following matrix:\n",
        "\n",
        "Matrix A2 [[1, 2, 3, 4] [5, 6, 7, 8],[9, 10, 11, 12]]\n",
        "\n",
        "Matrix B2 [[1, 2, 3, 4] [5, 6, 7, 8],[9, 10, 11, 12]]\n",
        "\n",
        " Index wise multiplication\n",
        " Matrix multiplication\n",
        " Add both the matrix\n",
        " Subtract matrix B from a\n",
        " Divide Matrix B by a"
      ],
      "metadata": {
        "id": "yNDeGJmu69en"
      }
    },
    {
      "cell_type": "code",
      "source": [
        "import numpy as np\n",
        "\n",
        "# Define the matrices\n",
        "A2 = np.array([[1, 2, 3, 4],\n",
        "               [5, 6, 7, 8],\n",
        "               [9, 10, 11, 12]])\n",
        "\n",
        "B2 = np.array([[1, 2, 3, 4],\n",
        "               [5, 6, 7, 8],\n",
        "               [9, 10, 11, 12]])\n",
        "\n",
        "# Index-wise (element-wise) multiplication\n",
        "elementwise_multiplication = A2 * B2\n",
        "print(\"Element-wise Multiplication:\\n\", elementwise_multiplication)\n",
        "\n",
        "# Matrix multiplication (dot product)\n",
        "matrix_multiplication = np.dot(A2, B2.T)  # Transpose B2 for correct dimensions\n",
        "print(\"\\nMatrix Multiplication:\\n\", matrix_multiplication)\n",
        "\n",
        "# Add both matrices\n",
        "matrix_addition = A2 + B2\n",
        "print(\"\\nMatrix Addition:\\n\", matrix_addition)\n",
        "\n",
        "# Subtract matrix B2 from A2\n",
        "matrix_subtraction = A2 - B2\n",
        "print(\"\\nMatrix Subtraction (A2 - B2):\\n\", matrix_subtraction)\n",
        "\n",
        "# Divide Matrix B2 by A2\n",
        "matrix_division = B2 / A2\n",
        "print(\"\\nMatrix Division (B2 / A2):\\n\", matrix_division)\n"
      ],
      "metadata": {
        "colab": {
          "base_uri": "https://localhost:8080/"
        },
        "id": "VrUsmXSa7YBo",
        "outputId": "ed61267e-35c7-40c5-ede8-d7b7758fc568"
      },
      "execution_count": null,
      "outputs": [
        {
          "output_type": "stream",
          "name": "stdout",
          "text": [
            "Element-wise Multiplication:\n",
            " [[  1   4   9  16]\n",
            " [ 25  36  49  64]\n",
            " [ 81 100 121 144]]\n",
            "\n",
            "Matrix Multiplication:\n",
            " [[ 30  70 110]\n",
            " [ 70 174 278]\n",
            " [110 278 446]]\n",
            "\n",
            "Matrix Addition:\n",
            " [[ 2  4  6  8]\n",
            " [10 12 14 16]\n",
            " [18 20 22 24]]\n",
            "\n",
            "Matrix Subtraction (A2 - B2):\n",
            " [[0 0 0 0]\n",
            " [0 0 0 0]\n",
            " [0 0 0 0]]\n",
            "\n",
            "Matrix Division (B2 / A2):\n",
            " [[1. 1. 1. 1.]\n",
            " [1. 1. 1. 1.]\n",
            " [1. 1. 1. 1.]]\n"
          ]
        }
      ]
    },
    {
      "cell_type": "markdown",
      "source": [
        "12.  Which function in Numpy can be used to swap the byte order of an array"
      ],
      "metadata": {
        "id": "oVSiQwJ17umS"
      }
    },
    {
      "cell_type": "markdown",
      "source": [
        "In NumPy, the function used to swap the byte order of an array is numpy.ndarray.byteswap()."
      ],
      "metadata": {
        "id": "3y46_dl_8SoR"
      }
    },
    {
      "cell_type": "markdown",
      "source": [
        "This function changes the byte order of the elements in the array, making it useful when dealing with data that has a different endianness than the system's native endianness."
      ],
      "metadata": {
        "id": "DFPonOev8USS"
      }
    },
    {
      "cell_type": "code",
      "source": [
        "import numpy as np\n",
        "\n",
        "# Creating an array\n",
        "arr = np.array([1, 256, 1024], dtype=np.int32)\n",
        "\n",
        "# Printing the original array\n",
        "print(\"Original array:\", arr)\n",
        "\n",
        "# Swapping the byte order\n",
        "swapped_arr = arr.byteswap()\n",
        "\n",
        "# Printing the swapped array\n",
        "print(\"Byte-swapped array:\", swapped_arr)\n"
      ],
      "metadata": {
        "colab": {
          "base_uri": "https://localhost:8080/"
        },
        "id": "Vo1otKE87pYG",
        "outputId": "07887864-0199-48aa-9ed4-67cf2804b6e6"
      },
      "execution_count": null,
      "outputs": [
        {
          "output_type": "stream",
          "name": "stdout",
          "text": [
            "Original array: [   1  256 1024]\n",
            "Byte-swapped array: [16777216    65536   262144]\n"
          ]
        }
      ]
    },
    {
      "cell_type": "markdown",
      "source": [
        "13.  What is the significance of the np.linalg.inv function?"
      ],
      "metadata": {
        "id": "gg70MGti9J3N"
      }
    },
    {
      "cell_type": "markdown",
      "source": [
        "The np.linalg.inv function in NumPy is used to calculate the inverse of a square matrix. The inverse of a matrix\n",
        "𝐴\n",
        " is another matrix\n",
        "𝐴\n",
        "−\n",
        "1\n",
        "\n",
        "  such that when\n",
        "𝐴\n",
        " is multiplied by\n",
        "𝐴\n",
        "−\n",
        "1\n",
        "\n",
        " , it results in the identity matrix\n",
        "𝐼\n",
        "I. This can be expressed as:\n",
        "\n",
        "\n",
        "A×A\n",
        "−1\n",
        " =A\n",
        "−1\n",
        " ×A=I"
      ],
      "metadata": {
        "id": "jM6gSRcr_PKs"
      }
    },
    {
      "cell_type": "markdown",
      "source": [
        "Significance of np.linalg.inv\n",
        "Solving Linear Systems: One of the primary applications of matrix inversion is in solving systems of linear equations. If you have a system of equations\n",
        "𝐴\n",
        "𝑋\n",
        "=\n",
        "𝐵\n",
        "AX=B, where\n",
        "𝐴\n",
        "is a square matrix,\n",
        "𝑋\n",
        "is a vector of variables, and\n",
        "𝐵\n",
        " is a vector of constants, you can solve for\n",
        "𝑋\n",
        "by multiplying both sides by the inverse of\n",
        "\n",
        "A:\n",
        "\n",
        "𝑋\n",
        "=\n",
        "𝐴\n",
        "−\n",
        "1\n",
        "𝐵\n",
        "\n",
        "Matrix Algebra: The inverse matrix is fundamental in various matrix algebra operations, especially in fields like linear algebra, control theory, and statistics.\n",
        "\n",
        "Transformations: In graphics and geometric transformations, matrix inversion is used to reverse transformations such as scaling, rotation, and translation.\n",
        "\n",
        "Theoretical Applications: In theory, the inverse of a matrix is key in proofs and derivations involving linear transformations and eigenvalues.\n",
        "\n",
        "Important Notes\n",
        "\n",
        "Existence: Not all matrices have an inverse. A matrix has an inverse if and only if it is square (same number of rows and columns) and its determinant is non-zero.\n",
        "\n",
        "Computational Considerations: Calculating the inverse of a matrix can be computationally expensive, especially for large matrices. In some cases, it might be more efficient to use methods like LU decomposition or direct solvers rather than explicitly calculating the inverse.\n"
      ],
      "metadata": {
        "id": "di_511hI_h0X"
      }
    },
    {
      "cell_type": "code",
      "source": [
        "import numpy as np\n",
        "\n",
        "# Define a square matrix A\n",
        "A = np.array([[1, 2], [3, 4]])\n",
        "\n",
        "# Calculate the inverse of A\n",
        "A_inv = np.linalg.inv(A)\n",
        "\n",
        "print(\"Inverse of A:\")\n",
        "print(A_inv)\n",
        "\n",
        "# Verify by multiplying A with its inverse to get the identity matrix\n",
        "I = np.dot(A, A_inv)\n",
        "print(\"Identity matrix:\")\n",
        "print(I)\n",
        "\n"
      ],
      "metadata": {
        "colab": {
          "base_uri": "https://localhost:8080/"
        },
        "id": "d9hhrLKU8erh",
        "outputId": "324892cb-1e67-4eb2-b556-5f0b791d5150"
      },
      "execution_count": null,
      "outputs": [
        {
          "output_type": "stream",
          "name": "stdout",
          "text": [
            "Inverse of A:\n",
            "[[-2.   1. ]\n",
            " [ 1.5 -0.5]]\n",
            "Identity matrix:\n",
            "[[1.0000000e+00 0.0000000e+00]\n",
            " [8.8817842e-16 1.0000000e+00]]\n"
          ]
        }
      ]
    },
    {
      "cell_type": "markdown",
      "source": [
        "14. What does the np.reshape function do, and how is it used?"
      ],
      "metadata": {
        "id": "JHIzftwf_8PZ"
      }
    },
    {
      "cell_type": "markdown",
      "source": [
        "The np.reshape function in NumPy is used to change the shape of an existing array without altering its data. Essentially, it rearranges the elements of the array to fit into a new shape that you specify."
      ],
      "metadata": {
        "id": "jpc8AuIgAOAk"
      }
    },
    {
      "cell_type": "markdown",
      "source": [
        "Functionality\n",
        "Input Array: np.reshape takes an input array and reshapes it into a new shape that you specify through a tuple.\n",
        "\n",
        "Shape Compatibility: The total number of elements in the original array must match the total number of elements in the new shape. For example, you cannot reshape an array of size 6 into a shape that has 7 elements."
      ],
      "metadata": {
        "id": "H3_sNNuqAP9I"
      }
    },
    {
      "cell_type": "markdown",
      "source": [
        "np.reshape(a, newshape, order='C')\n"
      ],
      "metadata": {
        "id": "ubYZdrzIAXhY"
      }
    },
    {
      "cell_type": "markdown",
      "source": [
        "a: The input array you want to reshape.\n",
        "newshape: A tuple that defines the new shape of the array. One dimension can be -1, which means that dimension is inferred from the other dimensions.\n",
        "order: (Optional) This argument determines the order of reading/writing elements ('C' for row-major (C-style), 'F' for column-major (Fortran-style)). The default is 'C'."
      ],
      "metadata": {
        "id": "lnwkeGyvAY7x"
      }
    },
    {
      "cell_type": "code",
      "source": [
        "import numpy as np\n",
        "\n",
        "# Original 1D array\n",
        "arr = np.array([1, 2, 3, 4, 5, 6])\n",
        "\n",
        "# Reshape to 2x3 array\n",
        "reshaped_arr = np.reshape(arr, (2, 3))\n",
        "\n",
        "print(reshaped_arr)\n"
      ],
      "metadata": {
        "colab": {
          "base_uri": "https://localhost:8080/"
        },
        "id": "KBef0qkzAghE",
        "outputId": "c57d20d4-1612-4031-bc88-30dc276c67d3"
      },
      "execution_count": null,
      "outputs": [
        {
          "output_type": "stream",
          "name": "stdout",
          "text": [
            "[[1 2 3]\n",
            " [4 5 6]]\n"
          ]
        }
      ]
    },
    {
      "cell_type": "markdown",
      "source": [
        "15. What is broadcasting in Numpy?"
      ],
      "metadata": {
        "id": "kU_7IGH_Am9o"
      }
    },
    {
      "cell_type": "markdown",
      "source": [
        "Broadcasting in NumPy is a powerful mechanism that allows operations on arrays of different shapes. It automatically expands the smaller array(s) to match the shape of the larger array so that element-wise operations can be performed without explicitly copying the data. This feature is especially useful in performing mathematical operations on arrays of different sizes, such as addition, subtraction, multiplication, etc."
      ],
      "metadata": {
        "id": "v9fm6JSZAzPX"
      }
    },
    {
      "cell_type": "markdown",
      "source": [
        "How Broadcasting Works\n",
        "Broadcasting follows specific rules to determine how the smaller array can be expanded to perform operations with a larger array:\n",
        "\n",
        "Aligning Dimensions: NumPy compares the shapes of the two arrays element by element, starting from the rightmost dimension.\n",
        "\n",
        "Shape Compatibility Rules:\n",
        "\n",
        "If the two dimensions are equal, they are compatible.\n",
        "\n",
        "If one of the dimensions is 1, it is \"stretched\" to match the other dimension.\n",
        "If the dimensions are different and neither is 1, the arrays are not compatible for broadcasting.\n",
        "\n",
        "Expanding the Smaller Array: Once the dimensions are aligned, NumPy virtually expands the smaller array along the dimension(s) where it has size 1 to match the size of the corresponding dimension of the larger array. This expansion is done without actually replicating the data, making broadcasting memory-efficient."
      ],
      "metadata": {
        "id": "az_eazW-A-T1"
      }
    },
    {
      "cell_type": "code",
      "source": [],
      "metadata": {
        "id": "YKEwGvz6AjmN"
      },
      "execution_count": null,
      "outputs": []
    },
    {
      "cell_type": "markdown",
      "source": [
        "Benefits of Broadcasting\n",
        "Memory Efficiency: Broadcasting avoids the need to explicitly replicate data, saving memory and reducing computational overhead.\n",
        "Conciseness: It allows for more concise code, as you can perform operations on arrays of different shapes without needing to manually reshape or repeat arrays.\n",
        "Performance: Broadcasting operations are generally optimized and can be faster than manually expanding arrays.\n",
        "When Broadcasting Fails\n",
        "If the shapes of the arrays do not satisfy the broadcasting rules, NumPy will raise a ValueError, indicating that the operands could not be broadcasted together.\n",
        "\n",
        "Summary\n",
        "Broadcasting is a key feature in NumPy that simplifies array operations by automatically handling different shapes, making it easier to write efficient and concise code."
      ],
      "metadata": {
        "id": "09NqUHIIBOCL"
      }
    },
    {
      "cell_type": "code",
      "source": [
        "#Adding Two Arrays of Different Shapes:\n",
        "arr1 = np.array([[1, 2, 3], [4, 5, 6]])\n",
        "arr2 = np.array([10, 20, 30])\n",
        "\n",
        "result = arr1 + arr2\n",
        "\n",
        "print(result)\n"
      ],
      "metadata": {
        "colab": {
          "base_uri": "https://localhost:8080/"
        },
        "id": "_cNAadgmBPS3",
        "outputId": "16769e99-1bc4-4b14-fe25-b942e9f4e9e8"
      },
      "execution_count": null,
      "outputs": [
        {
          "output_type": "stream",
          "name": "stdout",
          "text": [
            "[[11 22 33]\n",
            " [14 25 36]]\n"
          ]
        }
      ]
    },
    {
      "cell_type": "code",
      "source": [],
      "metadata": {
        "id": "pR9cBjVyBapZ"
      },
      "execution_count": null,
      "outputs": []
    }
  ]
}